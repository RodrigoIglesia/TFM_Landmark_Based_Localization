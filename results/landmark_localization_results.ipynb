{
 "cells": [
  {
   "cell_type": "markdown",
   "metadata": {},
   "source": [
    "# EKF Analysis\n",
    "\n",
    "En este análisis, se ha utilizado un Filtro de Kalman Extendido (EKF) para estimar la posición y orientación de un vehículo en un escenario específico. A continuación, se detallan los pasos y resultados obtenidos:\n",
    "\n",
    "### Carga de Datos\n",
    "\n",
    "Se han cargado dos archivos CSV que contienen los datos de las poses y los puntos de referencia (landmarks) del escenario. Estos archivos se han leído utilizando la librería `pandas`.\n",
    "\n",
    "### Visualización de Datos\n",
    "\n",
    "Se han visualizado las primeras filas y la información general de los datos de poses y landmarks para entender mejor su estructura y contenido.\n",
    "\n",
    "### Preprocesamiento de Datos\n",
    "\n",
    "Se han convertido las columnas `frame` y `match_index` a valores numéricos y se ha creado una nueva columna `match` en `poses_data` para indicar si hay una coincidencia con los puntos de referencia.\n",
    "\n",
    "### Recorridos\n",
    "\n",
    "Se han graficado las componentes X, Y y Yaw de las posiciones reales y corregidas a lo largo de los frames, destacando los puntos donde hay coincidencias con los landmarks.\n",
    "\n",
    "### Errores de Posición y Orientación\n",
    "\n",
    "Se han calculado los errores cuadráticos medios (MSE) para las posiciones y orientaciones estimadas en comparación con las reales."
   ]
  },
  {
   "cell_type": "code",
   "execution_count": null,
   "metadata": {},
   "outputs": [],
   "source": [
    "import pandas as pd\n",
    "import numpy as np\n",
    "import matplotlib.pyplot as plt\n",
    "from sklearn.metrics import mean_squared_error"
   ]
  },
  {
   "cell_type": "code",
   "execution_count": null,
   "metadata": {},
   "outputs": [],
   "source": [
    "import os\n",
    "import sys"
   ]
  },
  {
   "cell_type": "code",
   "execution_count": null,
   "metadata": {},
   "outputs": [],
   "source": [
    "# Load the files\n",
    "scene = \"individual_files_validation_segment-10289507859301986274_4200_000_4220_000_with_camera_labels\"\n",
    "date = \"202504140030\"\n",
    "\n",
    "# filepath of the csv file with the scene poses_data\n",
    "poses_file_path = os.path.join(os.getcwd(), scene + \"/\" + date, \"poses_\" + scene + \".csv\")\n",
    "landmarks_file_path = os.path.join(os.getcwd(), scene + \"/\" + date, \"landmarks_\" + scene + \".csv\")\n",
    "print(\"Poses File Path:\", poses_file_path)\n",
    "print(\"Landmarks File Path:\", landmarks_file_path)\n"
   ]
  },
  {
   "cell_type": "markdown",
   "metadata": {},
   "source": [
    "Lee información de las Poses con Pandas para visualizarlas"
   ]
  },
  {
   "cell_type": "code",
   "execution_count": null,
   "metadata": {},
   "outputs": [],
   "source": [
    "poses_data = pd.read_csv(poses_file_path)\n",
    "poses_data.shape"
   ]
  },
  {
   "cell_type": "code",
   "execution_count": null,
   "metadata": {},
   "outputs": [],
   "source": [
    "poses_data.head()"
   ]
  },
  {
   "cell_type": "code",
   "execution_count": null,
   "metadata": {},
   "outputs": [],
   "source": [
    "poses_data.info()"
   ]
  },
  {
   "cell_type": "code",
   "execution_count": null,
   "metadata": {},
   "outputs": [],
   "source": [
    "real_positions = poses_data[['real_x', 'real_y']].values\n",
    "estimated_positions = poses_data[['corrected_x', 'corrected_y']].values\n",
    "real_orientations = poses_data[['real_yaw']].values\n",
    "estimated_orientations = poses_data[['corrected_yaw']].values"
   ]
  },
  {
   "cell_type": "markdown",
   "metadata": {},
   "source": [
    "Lee la informaión de las observaciones con Pandas para visualizarlas"
   ]
  },
  {
   "cell_type": "code",
   "execution_count": null,
   "metadata": {},
   "outputs": [],
   "source": [
    "landmarks_data = pd.read_csv(landmarks_file_path)\n",
    "landmarks_data.shape"
   ]
  },
  {
   "cell_type": "code",
   "execution_count": null,
   "metadata": {},
   "outputs": [],
   "source": [
    "landmarks_data.head()"
   ]
  },
  {
   "cell_type": "code",
   "execution_count": null,
   "metadata": {},
   "outputs": [],
   "source": [
    "landmarks_data.info()"
   ]
  },
  {
   "cell_type": "code",
   "execution_count": null,
   "metadata": {},
   "outputs": [],
   "source": [
    "# Convertir las columnas 'frame' y 'match_index' de poses_data a valores numéricos\n",
    "poses_data['frame'] = poses_data['frame'].apply(lambda x: int(x.strip('[]')))\n",
    "landmarks_data['frame'] = landmarks_data['frame'].apply(lambda x: int(x.strip('[]')))\n",
    "landmarks_data['match_index'] = landmarks_data['match_index'].apply(lambda x: int(x.strip('[]')))"
   ]
  },
  {
   "cell_type": "code",
   "execution_count": null,
   "metadata": {},
   "outputs": [],
   "source": [
    "poses_data.info()"
   ]
  },
  {
   "cell_type": "code",
   "execution_count": null,
   "metadata": {},
   "outputs": [],
   "source": [
    "landmarks_data.info()"
   ]
  },
  {
   "cell_type": "code",
   "execution_count": null,
   "metadata": {},
   "outputs": [],
   "source": [
    "# Crear una nueva columna 'match' en poses_data\n",
    "poses_data['match'] = poses_data.apply(lambda row: 1 if row['frame'] in landmarks_data[landmarks_data['match_index'] != -1]['frame'].values else 0, axis=1)\n",
    "\n",
    "# Mostrar las primeras filas de poses_data para verificar\n",
    "poses_data.head()"
   ]
  },
  {
   "cell_type": "markdown",
   "metadata": {},
   "source": [
    "Recorridos"
   ]
  },
  {
   "cell_type": "code",
   "execution_count": null,
   "metadata": {},
   "outputs": [],
   "source": [
    "plt.figure(figsize=(15, 20))\n",
    "\n",
    "# Plot X component\n",
    "plt.subplot(3, 1, 1)\n",
    "plt.plot(poses_data['frame'], poses_data['real_x'], label='Real X')\n",
    "plt.plot(poses_data['frame'], poses_data['corrected_x'], label='Corrected X')\n",
    "plt.plot(poses_data['match'] * np.max(poses_data['real_x']), color='red', label='Match')\n",
    "for i, match in enumerate(poses_data['match']):\n",
    "    if match == 1:\n",
    "        plt.axvline(x=poses_data['frame'][i], color='gray', linestyle='--')\n",
    "plt.title('Recorrido de la Componente X')\n",
    "plt.xlabel('Frame')\n",
    "plt.ylabel('X (m)')\n",
    "plt.legend()\n",
    "plt.grid()\n",
    "\n",
    "# Plot Y component\n",
    "plt.subplot(3, 1, 2)\n",
    "plt.plot(poses_data['frame'], poses_data['real_y'], label='Real Y')\n",
    "plt.plot(poses_data['frame'], poses_data['corrected_y'], label='Corrected Y')\n",
    "plt.plot(poses_data['match'] * np.max(poses_data['real_y']), color='red', label='Match')\n",
    "for i, match in enumerate(poses_data['match']):\n",
    "    if match == 1:\n",
    "        plt.axvline(x=poses_data['frame'][i], color='gray', linestyle='--')\n",
    "plt.title('Recorrido de la Componente Y')\n",
    "plt.xlabel('Frame')\n",
    "plt.ylabel('Y (m)')\n",
    "plt.legend()\n",
    "plt.grid()\n",
    "\n",
    "# Plot Yaw component\n",
    "plt.subplot(3, 1, 3)\n",
    "plt.plot(poses_data['frame'], poses_data['real_yaw'], label='Real Yaw')\n",
    "plt.plot(poses_data['frame'], poses_data['corrected_yaw'], label='Corrected Yaw')\n",
    "plt.plot(poses_data['match'] * np.max(poses_data['real_yaw']), color='red', label='Match')\n",
    "for i, match in enumerate(poses_data['match']):\n",
    "    if match == 1:\n",
    "        plt.axvline(x=poses_data['frame'][i], color='gray', linestyle='--')\n",
    "plt.title('Recorrido de la Componente Yaw')\n",
    "plt.xlabel('Frame')\n",
    "plt.ylabel('Yaw (radianes)')\n",
    "plt.legend()\n",
    "plt.grid()\n",
    "\n",
    "plt.tight_layout()\n",
    "plt.show()"
   ]
  },
  {
   "cell_type": "markdown",
   "metadata": {},
   "source": [
    "Errores de posición y orientación EKF"
   ]
  },
  {
   "cell_type": "code",
   "execution_count": null,
   "metadata": {},
   "outputs": [],
   "source": [
    "mse_x = mean_squared_error(real_positions[:, 0], estimated_positions[:, 0])\n",
    "mse_y = mean_squared_error(real_positions[:, 1], estimated_positions[:, 1])\n",
    "mse_position_total = mean_squared_error(real_positions, estimated_positions)\n",
    "\n",
    "print(f\"MSE in position for scene {scene}: {mse_position_total:.4f}\")"
   ]
  },
  {
   "cell_type": "code",
   "execution_count": null,
   "metadata": {},
   "outputs": [],
   "source": [
    "mse_ori_yaw = mean_squared_error(real_orientations, estimated_orientations)\n",
    "mse_orientation_total = mean_squared_error(real_orientations, estimated_orientations)\n",
    "\n",
    "print(f\"MSE in position for scene {scene}: {mse_orientation_total:.4f}\")"
   ]
  },
  {
   "cell_type": "code",
   "execution_count": null,
   "metadata": {},
   "outputs": [],
   "source": [
    "print(\"\\nAnálisis de precisión (MSE):\")\n",
    "print(f\"MSE Posición en X: {mse_x:.4f}\")\n",
    "print(f\"MSE Posición en Y: {mse_y:.4f}\")\n",
    "print(f\"MSE Total Posición: {mse_position_total:.4f}\")\n",
    "\n",
    "print(f\"MSE Orientación en Yaw: {mse_ori_yaw:.4f}\")\n",
    "print(f\"MSE Total Orientación: {mse_orientation_total:.4f}\")"
   ]
  },
  {
   "cell_type": "code",
   "execution_count": null,
   "metadata": {},
   "outputs": [],
   "source": [
    "position_errors = (real_positions - estimated_positions) ** 2\n",
    "orientation_errors = (real_orientations - estimated_orientations) ** 2"
   ]
  },
  {
   "cell_type": "code",
   "execution_count": null,
   "metadata": {},
   "outputs": [],
   "source": [
    "plt.figure(figsize=(15, 20))\n",
    "# Plot X component\n",
    "plt.subplot(3, 1, 1)\n",
    "plt.plot(position_errors[:, 0], label='MSE Posición X')\n",
    "plt.plot(poses_data['match'] * np.max(position_errors[:, 0]), color='red', label='Match')\n",
    "plt.title('MSE de Posición X por Iteración')\n",
    "plt.xlabel('Frame')\n",
    "plt.ylabel('MSE')\n",
    "plt.legend()\n",
    "plt.grid()\n",
    "\n",
    "# Plot Y component\n",
    "plt.subplot(3, 1, 2)\n",
    "plt.plot(position_errors[:, 1], label='MSE Posición Y')\n",
    "plt.plot(poses_data['match'] * np.max(position_errors[:, 1]), color='red', label='Match')\n",
    "plt.title('MSE de Posición Y por Iteración')\n",
    "plt.xlabel('Frame')\n",
    "plt.ylabel('MSE')\n",
    "plt.legend()\n",
    "plt.grid()\n",
    "\n",
    "# Plot Yaw component\n",
    "plt.subplot(3, 1, 3)\n",
    "plt.plot(orientation_errors[:, 0], label='MSE Orientación Yaw')\n",
    "plt.plot(poses_data['match'] * np.max(orientation_errors[:, 0]), color='red', label='Match')\n",
    "plt.title('MSE de Orientación Yaw por Iteración')\n",
    "plt.xlabel('Frame')\n",
    "plt.ylabel('MSE')\n",
    "plt.legend()\n",
    "plt.grid()\n",
    "\n",
    "\n",
    "plt.tight_layout()\n",
    "plt.show()"
   ]
  },
  {
   "cell_type": "code",
   "execution_count": null,
   "metadata": {},
   "outputs": [],
   "source": [
    "# Calcular el MSE total para cada iteración\n",
    "mse_total_ekf = np.mean(position_errors, axis=1)\n",
    "\n",
    "# Graficar el MSE total por iteración\n",
    "plt.figure(figsize=(15, 5))\n",
    "plt.plot(mse_total_ekf, label='MSE EKF Total')\n",
    "plt.plot(poses_data['match'], color='red', label='Match')\n",
    "plt.title('MSE Total por Iteración')\n",
    "plt.xlabel('Iteración')\n",
    "plt.ylabel('MSE Total')\n",
    "plt.legend()\n",
    "plt.grid()\n",
    "plt.show()"
   ]
  },
  {
   "cell_type": "markdown",
   "metadata": {
    "vscode": {
     "languageId": "markdown"
    }
   },
   "source": [
    "## Análisis del Filtro de Kalman Extendido (EKF)\n",
    "\n",
    "Los resultados son los siguientes:\n",
    "\n",
    "- **MSE Posición en X:** 0.0031\n",
    "- **MSE Posición en Y:** 1.1025\n",
    "- **MSE Total Posición:** 0.0031\n",
    "- **MSE Orientación en Yaw:** 0.0011\n",
    "- **MSE Total Orientación:** 0.0011\n",
    "\n",
    "### Análisis de Precisión\n",
    "\n",
    "Se han graficado los errores de posición y orientación por iteración, destacando los puntos donde hay coincidencias con los landmarks.\n",
    "\n",
    "### MSE Total por Iteración\n",
    "\n",
    "Se ha calculado y graficado el MSE total para cada iteración, mostrando cómo varía el error a lo largo del tiempo.\n",
    "\n",
    "### Conclusiones\n",
    "\n",
    "El análisis muestra que el EKF es capaz de estimar la posición y orientación del vehículo con una precisión razonable. Sin embargo, se observan algunos errores significativos en ciertas iteraciones, lo que sugiere que podría haber mejoras en el modelo o en la calidad de los datos utilizados."
   ]
  },
  {
   "cell_type": "code",
   "execution_count": null,
   "metadata": {},
   "outputs": [],
   "source": []
  }
 ],
 "metadata": {
  "kernelspec": {
   "display_name": "waymo_benchmark_v1_env",
   "language": "python",
   "name": "python3"
  },
  "language_info": {
   "codemirror_mode": {
    "name": "ipython",
    "version": 3
   },
   "file_extension": ".py",
   "mimetype": "text/x-python",
   "name": "python",
   "nbconvert_exporter": "python",
   "pygments_lexer": "ipython3",
   "version": "3.9.5"
  }
 },
 "nbformat": 4,
 "nbformat_minor": 2
}
