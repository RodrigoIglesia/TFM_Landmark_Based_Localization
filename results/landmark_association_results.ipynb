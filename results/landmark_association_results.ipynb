{
 "cells": [
  {
   "cell_type": "code",
   "execution_count": null,
   "metadata": {},
   "outputs": [],
   "source": [
    "import os\n",
    "import sys\n",
    "import re\n",
    "import matplotlib.pyplot as plt\n",
    "import numpy as np"
   ]
  },
  {
   "cell_type": "code",
   "execution_count": null,
   "metadata": {},
   "outputs": [],
   "source": [
    "# Archivo de logs\n",
    "log_file = \"individual_files_training_segment-10023947602400723454_1120_000_1140_000_with_camera_labels_Association_Test3_Logs.txt\"\n",
    "with open(log_file, \"r\") as file:\n",
    "    log_data = file.read()"
   ]
  },
  {
   "cell_type": "code",
   "execution_count": null,
   "metadata": {},
   "outputs": [],
   "source": [
    "# Expresión regular para capturar las distancias de Mahalanobis\n",
    "mahalanobis_pattern = re.compile(r\"Min distance for observation \\d+: ([\\d\\.]+)\")\n",
    "# Expresión regular para capturar las matrices de incertidumbre\n",
    "uncertainty_state_pattern = re.compile(r\"Incertidumbre del estado:\\n((?:[\\d\\.e\\-]+\\s+)+)\\n\")\n",
    "uncertainty_obs_pattern = re.compile(r\"Incertidumbre de las observaciones:\\n((?:[\\d\\.e\\-]+\\s+)+)\\n\")\n",
    "# Expresión regular para capturar el número total de observaciones\n",
    "total_observations_pattern = re.compile(r\"EKF Number of observations received: (\\d+)\")\n",
    "# Expresión regular para capturar el número de asociaciones correctas\n",
    "correct_associations_pattern = re.compile(r\"EKF MATCH FOUND\")"
   ]
  },
  {
   "cell_type": "code",
   "execution_count": null,
   "metadata": {},
   "outputs": [],
   "source": [
    "# Listas para almacenar datos\n",
    "frame_numbers = []\n",
    "mahalanobis_distances = []\n",
    "uncertainty_state_values = []\n",
    "uncertainty_obs_values = []\n",
    "total_observations = 0\n",
    "correct_associations = 0\n",
    "\n",
    "frame_count = 0\n",
    "current_distances = []\n",
    "\n",
    "# Extraer incertidumbre, distancias de Mahalanobis y asociaciones correctas\n",
    "lines = log_data.split(\"\\n\")\n",
    "for i, line in enumerate(lines):\n",
    "    if \"CLIENT New Frame\" in line:\n",
    "        if current_distances:  # Guardar el mínimo si hay valores almacenados\n",
    "            min_distance = min(current_distances)\n",
    "            if min_distance <= 5:  # Filtrar outliers\n",
    "                frame_numbers.append(frame_count)\n",
    "                mahalanobis_distances.append(min_distance)\n",
    "            current_distances = []  # Reiniciar para el siguiente frame\n",
    "        frame_count += 1  # Nuevo frame\n",
    "    \n",
    "    match = mahalanobis_pattern.search(line)\n",
    "    if match:\n",
    "        distance = float(match.group(1))\n",
    "        current_distances.append(distance)\n",
    "    \n",
    "    if \"Incertidumbre del estado:\" in line:\n",
    "        matrix_lines = lines[i+1:i+7]  # Extraer las 6 líneas siguientes que contienen la matriz\n",
    "        matrix = np.array([[float(num) for num in row.split()] for row in matrix_lines])\n",
    "        uncertainty_state_values.append(np.trace(matrix))  # Calcular la traza de la matriz\n",
    "    \n",
    "    if \"Incertidumbre de las observaciones:\" in line:\n",
    "        matrix_lines = lines[i+1:i+7]  # Extraer las 6 líneas siguientes que contienen la matriz\n",
    "        matrix = np.array([[float(num) for num in row.split()] for row in matrix_lines])\n",
    "        uncertainty_obs_values.append(np.trace(matrix))  # Calcular la traza de la matriz\n",
    "    \n",
    "    if correct_associations_pattern.search(line):\n",
    "        correct_associations += 1\n",
    "\n",
    "    match_total = total_observations_pattern.search(line)\n",
    "    if match_total:\n",
    "        total_observations += int(match_total.group(1))"
   ]
  },
  {
   "cell_type": "code",
   "execution_count": null,
   "metadata": {},
   "outputs": [],
   "source": [
    "# Mostrar el número total de observaciones\n",
    "print(f\"Número total de observaciones: {total_observations}\")\n",
    "# Mostrar el número total de asociaciones correctas\n",
    "print(f\"Número total de asociaciones correctas: {correct_associations}\")"
   ]
  },
  {
   "cell_type": "code",
   "execution_count": null,
   "metadata": {},
   "outputs": [],
   "source": [
    "# Calcular tasa de éxito de asociación\n",
    "success_rate = (correct_associations / total_observations) * 100 if total_observations > 0 else 0"
   ]
  },
  {
   "cell_type": "code",
   "execution_count": null,
   "metadata": {},
   "outputs": [],
   "source": [
    "# Guardar el último frame si hay datos pendientes\n",
    "if current_distances:\n",
    "    min_distance = min(current_distances)\n",
    "    frame_numbers.append(frame_count)\n",
    "    mahalanobis_distances.append(min_distance)"
   ]
  },
  {
   "cell_type": "code",
   "execution_count": null,
   "metadata": {},
   "outputs": [],
   "source": [
    "# Ajustar regresión lineal\n",
    "coeffs = np.polyfit(frame_numbers, mahalanobis_distances, 1)\n",
    "trend_line = np.poly1d(coeffs)"
   ]
  },
  {
   "cell_type": "code",
   "execution_count": null,
   "metadata": {},
   "outputs": [],
   "source": [
    "# Graficar los resultados\n",
    "plt.figure(figsize=(10, 5))\n",
    "plt.plot(frame_numbers, mahalanobis_distances, marker='o', linestyle='-', color='b', label=\"Datos\")\n",
    "plt.plot(frame_numbers, trend_line(frame_numbers), linestyle='--', color='r', label=\"Tendencia Lineal\")\n",
    "plt.xlabel(\"Número de Frame\")\n",
    "plt.ylabel(\"Distancia de Mahalanobis\")\n",
    "plt.title(\"Evolución de la Distancia de Mahalanobis en las Asociaciones\")\n",
    "plt.legend()\n",
    "plt.grid()"
   ]
  },
  {
   "cell_type": "code",
   "execution_count": null,
   "metadata": {},
   "outputs": [],
   "source": [
    "# Graficar la evolución de la incertidumbre de la pose\n",
    "plt.figure(figsize=(10, 5))\n",
    "plt.plot(range(len(uncertainty_state_values)), uncertainty_state_values, marker='o', linestyle='-', color='g', label=\"Incertidumbre de la Pose\")\n",
    "plt.xlabel(\"Número de Frame\")\n",
    "plt.ylabel(\"Traza de la Matriz de Incertidumbre\")\n",
    "plt.title(\"Evolución de la Incertidumbre de la Pose\")\n",
    "plt.legend()\n",
    "plt.grid()\n",
    "plt.show()"
   ]
  },
  {
   "cell_type": "code",
   "execution_count": null,
   "metadata": {},
   "outputs": [],
   "source": [
    "# Graficar la evolución de la incertidumbre de las observaciones\n",
    "plt.figure(figsize=(10, 5))\n",
    "plt.plot(range(len(uncertainty_obs_values)), uncertainty_obs_values, marker='o', linestyle='-', color='m', label=\"Incertidumbre de las Observaciones\")\n",
    "plt.xlabel(\"Número de Frame\")\n",
    "plt.ylabel(\"Traza de la Matriz de Incertidumbre\")\n",
    "plt.title(\"Evolución de la Incertidumbre de las Observaciones\")\n",
    "plt.legend()\n",
    "plt.grid()\n",
    "plt.show()\n"
   ]
  },
  {
   "cell_type": "code",
   "execution_count": null,
   "metadata": {},
   "outputs": [],
   "source": [
    "#Mostrar métricas\n",
    "print(f\"Número total de asociaciones correctas: {correct_associations}\")\n",
    "print(f\"Número total de observaciones realizadas: {total_observations}\")\n",
    "print(f\"Tasa de éxito de asociación: {success_rate:.2f}%\")\n",
    "print(f\"Promedio de distancia de Mahalanobis: {np.mean(mahalanobis_distances):.2f} ± {np.std(mahalanobis_distances):.2f}\")\n",
    "print(f\"Promedio de incertidumbre de la pose: {np.mean(uncertainty_state_values):.2f} ± {np.std(uncertainty_state_values):.2f}\")\n",
    "print(f\"Promedio de incertidumbre de las observaciones: {np.mean(uncertainty_obs_values):.2f} ± {np.std(uncertainty_obs_values):.2f}\")"
   ]
  }
 ],
 "metadata": {
  "kernelspec": {
   "display_name": "Python 3",
   "language": "python",
   "name": "python3"
  },
  "language_info": {
   "codemirror_mode": {
    "name": "ipython",
    "version": 3
   },
   "file_extension": ".py",
   "mimetype": "text/x-python",
   "name": "python",
   "nbconvert_exporter": "python",
   "pygments_lexer": "ipython3",
   "version": "3.8.10"
  }
 },
 "nbformat": 4,
 "nbformat_minor": 2
}
