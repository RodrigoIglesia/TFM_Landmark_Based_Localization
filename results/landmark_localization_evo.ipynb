{
 "cells": [
  {
   "cell_type": "code",
   "execution_count": null,
   "metadata": {},
   "outputs": [],
   "source": [
    "import pprint\n",
    "import pandas as pd\n",
    "import numpy as np\n",
    "import evo.core.trajectory as et\n",
    "from evo.core import metrics\n",
    "from evo.core.units import Unit\n",
    "import evo.tools.plot as ep\n",
    "from evo.tools.pandas_bridge import df_to_trajectory\n",
    "import matplotlib.pyplot as plt\n",
    "from scipy.spatial.transform import Rotation as R"
   ]
  },
  {
   "cell_type": "code",
   "execution_count": null,
   "metadata": {},
   "outputs": [],
   "source": [
    "from evo.tools import log\n",
    "log.configure_logging(verbose=True, debug=True, silent=False)\n",
    "from evo.core import sync\n",
    "# temporarily override some package settings\n",
    "from evo.tools.settings import SETTINGS\n",
    "SETTINGS.plot_usetex = False\n",
    "\n",
    "ep.apply_settings(SETTINGS)\n",
    "%matplotlib inline"
   ]
  },
  {
   "cell_type": "code",
   "execution_count": null,
   "metadata": {},
   "outputs": [],
   "source": [
    "import os\n",
    "import sys"
   ]
  },
  {
   "cell_type": "code",
   "execution_count": null,
   "metadata": {},
   "outputs": [],
   "source": [
    "# Load the files\n",
    "scene = \"individual_files_validation_segment-10289507859301986274_4200_000_4220_000_with_camera_labels\"\n",
    "date = \"202503151829\"\n",
    "\n",
    "# filepath of the csv file with the scene poses_data\n",
    "poses_file_path = os.path.join(os.getcwd(), scene + \"/\" + date, \"poses_\" + scene + \".csv\")\n",
    "landmarks_file_path = os.path.join(os.getcwd(), scene + \"/\" + date, \"landmarks_\" + scene + \".csv\")\n",
    "print(\"Poses File Path:\", poses_file_path)\n",
    "print(\"Landmarks File Path:\", landmarks_file_path)"
   ]
  },
  {
   "cell_type": "code",
   "execution_count": null,
   "metadata": {},
   "outputs": [],
   "source": [
    "data = pd.read_csv(poses_file_path)\n",
    "data.shape"
   ]
  },
  {
   "cell_type": "code",
   "execution_count": null,
   "metadata": {},
   "outputs": [],
   "source": [
    "data.head()"
   ]
  },
  {
   "cell_type": "code",
   "execution_count": null,
   "metadata": {},
   "outputs": [],
   "source": [
    "# Generar timestamps (10Hz)\n",
    "timestamps = np.arange(len(data)) * 0.1"
   ]
  },
  {
   "cell_type": "code",
   "execution_count": null,
   "metadata": {},
   "outputs": [],
   "source": [
    "gt_positions = data[['real_x', 'real_y', 'real_z']].values\n",
    "odometry_positions = data[['odometry_x', 'odometry_y', 'odometry_z']].values\n",
    "estimated_positions = data[['corrected_x', 'corrected_y', 'corrected_z']].values"
   ]
  },
  {
   "cell_type": "code",
   "execution_count": null,
   "metadata": {},
   "outputs": [],
   "source": [
    "gt_orientations = data[['real_roll', 'real_pitch', 'real_yaw']].values\n",
    "odometry_orientations = data[['odometry_roll', 'odometry_pitch', 'odometry_yaw']].values\n",
    "estimated_orientations = data[['corrected_roll', 'corrected_pitch', 'corrected_yaw']].values"
   ]
  },
  {
   "cell_type": "code",
   "execution_count": null,
   "metadata": {},
   "outputs": [],
   "source": [
    "# Convertir ángulos de Euler a cuaterniones (formato w, x, y, z)\n",
    "gt_rotations = R.from_euler('xyz', gt_orientations, degrees=False)\n",
    "gt_quaternions = gt_rotations.as_quat()  # Devuelve (x, y, z, w), hay que reordenar a (w, x, y, z)\n",
    "gt_quaternions = np.roll(gt_quaternions, shift=1, axis=1)  # Mover el último elemento al inicio\n",
    "\n",
    "odometry_orientations = R.from_euler('xyz', odometry_orientations, degrees=False)\n",
    "odometry_quaternions = odometry_orientations.as_quat()\n",
    "odometry_quaternions = np.roll(odometry_quaternions, shift=1, axis=1)\n",
    "\n",
    "estimated_orientations = R.from_euler('xyz', estimated_orientations, degrees=False)\n",
    "estimated_quaternions = estimated_orientations.as_quat()\n",
    "estimated_quaternions = np.roll(estimated_quaternions, shift=1, axis=1)\n"
   ]
  },
  {
   "cell_type": "code",
   "execution_count": null,
   "metadata": {},
   "outputs": [],
   "source": [
    "# Crear un DataFrame en formato evo\n",
    "df_gt_evo = pd.DataFrame({\n",
    "    \"x\": gt_positions[:, 0],\n",
    "    \"y\": gt_positions[:, 1],\n",
    "    \"z\": gt_positions[:, 2],\n",
    "    \"qw\": gt_quaternions[:, 0],\n",
    "    \"qx\": gt_quaternions[:, 1],\n",
    "    \"qy\": gt_quaternions[:, 2],\n",
    "    \"qz\": gt_quaternions[:, 3],\n",
    "}, index=timestamps)\n",
    "\n",
    "df_odometry_evo = pd.DataFrame({\n",
    "    \"x\": odometry_positions[:, 0],\n",
    "    \"y\": odometry_positions[:, 1],\n",
    "    \"z\": odometry_positions[:, 2],\n",
    "    \"qw\": odometry_quaternions[:, 0],\n",
    "    \"qx\": odometry_quaternions[:, 1],\n",
    "    \"qy\": odometry_quaternions[:, 2],\n",
    "    \"qz\": odometry_quaternions[:, 3],\n",
    "}, index=timestamps)\n",
    "\n",
    "df_estimated_evo = pd.DataFrame({\n",
    "    \"x\": estimated_positions[:, 0],\n",
    "    \"y\": estimated_positions[:, 1],\n",
    "    \"z\": estimated_positions[:, 2],\n",
    "    \"qw\": estimated_quaternions[:, 0],\n",
    "    \"qx\": estimated_quaternions[:, 1],\n",
    "    \"qy\": estimated_quaternions[:, 2],\n",
    "    \"qz\": estimated_quaternions[:, 3],\n",
    "}, index=timestamps)"
   ]
  },
  {
   "cell_type": "markdown",
   "metadata": {},
   "source": [
    "Trajectories"
   ]
  },
  {
   "cell_type": "code",
   "execution_count": null,
   "metadata": {},
   "outputs": [],
   "source": [
    "# Convertir DataFrame a PoseTrajectory3D\n",
    "traj_gt = df_to_trajectory(df_gt_evo, as_type=et.PoseTrajectory3D)\n",
    "traj_odometry = df_to_trajectory(df_odometry_evo, as_type=et.PoseTrajectory3D)\n",
    "traj_estimated = df_to_trajectory(df_estimated_evo, as_type=et.PoseTrajectory3D)"
   ]
  },
  {
   "cell_type": "code",
   "execution_count": null,
   "metadata": {},
   "outputs": [],
   "source": [
    "max_diff = 0.01\n",
    "traj_gt, traj_estimated = sync.associate_trajectories(traj_gt, traj_estimated, max_diff)"
   ]
  },
  {
   "cell_type": "code",
   "execution_count": null,
   "metadata": {},
   "outputs": [],
   "source": [
    "\n",
    "import copy\n",
    "\n",
    "traj_est_aligned = copy.deepcopy(traj_estimated)\n",
    "traj_est_aligned.align(traj_gt, correct_scale=False, correct_only_scale=False)"
   ]
  },
  {
   "cell_type": "code",
   "execution_count": null,
   "metadata": {},
   "outputs": [],
   "source": [
    "fig = plt.figure()\n",
    "traj_by_label = {\n",
    "    \"Ground Truth\": traj_gt,\n",
    "    \"Odometry\": traj_odometry,\n",
    "    \"Estimated\": traj_estimated\n",
    "}\n",
    "ep.trajectories(fig, traj_by_label, ep.PlotMode.xy)\n",
    "plt.show()"
   ]
  },
  {
   "cell_type": "code",
   "execution_count": null,
   "metadata": {},
   "outputs": [],
   "source": [
    "# Crear figura con 3 subgráficos\n",
    "fig, axarr = plt.subplots(3, figsize=(10, 6), sharex=True)\n",
    "\n",
    "# Graficar cada componente en función del tiempo\n",
    "ep.traj_xyz(axarr, traj_gt, style='-', color='blue', label='Real Trajectory', start_timestamp=traj_gt.timestamps[0])\n",
    "ep.traj_xyz(axarr, traj_odometry, style='-', color='red', label='Odometry Trajectory', start_timestamp=traj_odometry.timestamps[0])\n",
    "ep.traj_xyz(axarr, traj_estimated, style='-', color='green', label='Corrected Trajectory', start_timestamp=traj_estimated.timestamps[0])\n",
    "\n",
    "# Ajustes finales\n",
    "plt.xlabel(\"Tiempo (s)\")\n",
    "plt.suptitle(\"Componentes X, Y, Z de la Trayectoria en función del Tiempo\")\n",
    "plt.show()"
   ]
  },
  {
   "cell_type": "code",
   "execution_count": null,
   "metadata": {},
   "outputs": [],
   "source": [
    "# Crear figura con 3 subgráficos\n",
    "fig, axarr = plt.subplots(3, figsize=(10, 6), sharex=True)\n",
    "\n",
    "\n",
    "# Graficar cada componente en función del tiempo\n",
    "ep.traj_rpy(axarr, traj_gt, style='-', color='blue', label='Real Trajectory', start_timestamp=traj_gt.timestamps[0])\n",
    "ep.traj_rpy(axarr, traj_odometry, style='-', color='red', label='Odometry Trajectory', start_timestamp=traj_odometry.timestamps[0])\n",
    "ep.traj_rpy(axarr, traj_estimated, style='-', color='green', label='Corrected Trajectory', start_timestamp=traj_estimated.timestamps[0])\n",
    "\n",
    "# Ajustes finales\n",
    "plt.xlabel(\"Tiempo (s)\")\n",
    "plt.suptitle(\"Componentes Roll, Pitch, Yaw de la Trayectoria en función del Tiempo\")\n",
    "plt.show()"
   ]
  },
  {
   "cell_type": "markdown",
   "metadata": {},
   "source": [
    "APE"
   ]
  },
  {
   "cell_type": "code",
   "execution_count": null,
   "metadata": {},
   "outputs": [],
   "source": [
    "# Settings\n",
    "pose_relation = metrics.PoseRelation.translation_part\n",
    "# Data preparation\n",
    "data = (traj_gt, traj_est_aligned)\n",
    "ape_metric = metrics.APE(pose_relation)\n",
    "ape_metric.process_data(data)\n",
    "ape_stat = ape_metric.get_statistic(metrics.StatisticsType.rmse)\n",
    "print(ape_stat)"
   ]
  },
  {
   "cell_type": "code",
   "execution_count": null,
   "metadata": {},
   "outputs": [],
   "source": [
    "ape_stats = ape_metric.get_all_statistics()\n",
    "pprint.pprint(ape_stats)"
   ]
  },
  {
   "cell_type": "code",
   "execution_count": null,
   "metadata": {},
   "outputs": [],
   "source": [
    "seconds_from_start = [t - traj_est_aligned.timestamps[0] for t in traj_est_aligned.timestamps]\n",
    "fig = plt.figure()\n",
    "ep.error_array(fig.gca(), ape_metric.error, x_array=seconds_from_start,\n",
    "                 statistics={s:v for s,v in ape_stats.items() if s != \"sse\"},\n",
    "                 name=\"APE\", title=\"APE w.r.t. \" + ape_metric.pose_relation.value, xlabel=\"$t$ (s)\")\n",
    "plt.show()"
   ]
  },
  {
   "cell_type": "code",
   "execution_count": null,
   "metadata": {},
   "outputs": [],
   "source": [
    "plot_mode = ep.PlotMode.xy\n",
    "fig = plt.figure()\n",
    "ax = ep.prepare_axis(fig, plot_mode)\n",
    "ep.traj(ax, plot_mode, traj_gt, '--', \"gray\", \"reference\")\n",
    "ep.traj_colormap(ax, traj_estimated, ape_metric.error, \n",
    "                   plot_mode, min_map=ape_stats[\"min\"], max_map=ape_stats[\"max\"])\n",
    "ax.legend()\n",
    "plt.show()"
   ]
  },
  {
   "cell_type": "code",
   "execution_count": null,
   "metadata": {},
   "outputs": [],
   "source": [
    "tum_ate_equivalent = metrics.APE(metrics.PoseRelation.translation_part)\n",
    "tum_ate_equivalent.process_data((traj_gt, traj_est_aligned))\n",
    "print(tum_ate_equivalent.get_statistic(metrics.StatisticsType.rmse))"
   ]
  },
  {
   "cell_type": "markdown",
   "metadata": {},
   "source": [
    "## Resultados de APE (Absolute Pose Error)\n",
    "\n",
    "El APE (Absolute Pose Error) es una métrica utilizada para evaluar la precisión de una trayectoria estimada en comparación con una trayectoria de referencia (ground truth). En este caso, se ha calculado el APE entre la trayectoria estimada alineada y la trayectoria de referencia.\n",
    "\n",
    "### Estadísticas del APE\n",
    "Las estadísticas del APE incluyen varias medidas que describen la distribución de los errores de pose absolutos. Algunas de las estadísticas más relevantes son:\n",
    "\n",
    "- **RMSE (Root Mean Square Error)**: Es una medida de la magnitud promedio del error. Se calcula como la raíz cuadrada de la media de los errores al cuadrado. Un RMSE más bajo indica una mayor precisión.\n",
    "- **Mean**: Es el valor promedio de los errores. Proporciona una idea de la desviación promedio de la trayectoria estimada respecto a la trayectoria de referencia.\n",
    "- **Median**: Es el valor mediano de los errores. Es menos sensible a valores atípicos en comparación con la media.\n",
    "- **Min**: Es el valor mínimo de los errores. Indica el error más pequeño observado.\n",
    "- **Max**: Es el valor máximo de los errores. Indica el error más grande observado.\n",
    "- **Std (Standard Deviation)**: Es una medida de la dispersión de los errores. Un valor más bajo indica que los errores están más concentrados alrededor de la media.\n",
    "\n",
    "### Visualización del APE\n",
    "Se han generado varias visualizaciones para analizar el APE:\n",
    "\n",
    "1. **Gráfico de errores en función del tiempo**: Muestra cómo varía el error absoluto de pose a lo largo del tiempo. Esto ayuda a identificar si hay momentos específicos en los que el error es mayor.\n",
    "2. **Mapa de colores de la trayectoria**: Muestra la trayectoria estimada coloreada según el valor del error en cada punto. Esto permite identificar visualmente las áreas de la trayectoria con mayores errores.\n",
    "\n",
    "### Interpretación de los Resultados\n",
    "Los resultados del APE proporcionan una visión detallada de la precisión de la trayectoria estimada. Un RMSE bajo y una desviación estándar baja son indicativos de una trayectoria estimada que sigue de cerca la trayectoria de referencia. Las visualizaciones ayudan a identificar patrones y áreas problemáticas en la estimación de la trayectoria.\n",
    "\n",
    "En resumen, el análisis del APE es fundamental para evaluar y mejorar la precisión de algoritmos de estimación de trayectoria en aplicaciones de navegación y robótica."
   ]
  },
  {
   "cell_type": "markdown",
   "metadata": {},
   "source": [
    "RPE"
   ]
  },
  {
   "cell_type": "code",
   "execution_count": null,
   "metadata": {},
   "outputs": [],
   "source": [
    "pose_relation = metrics.PoseRelation.rotation_angle_deg\n",
    "\n",
    "# normal mode\n",
    "delta = 1\n",
    "delta_unit = Unit.frames\n",
    "\n",
    "# all pairs mode\n",
    "all_pairs = False  # activate"
   ]
  },
  {
   "cell_type": "code",
   "execution_count": null,
   "metadata": {},
   "outputs": [],
   "source": [
    "\n",
    "data = (traj_gt, traj_estimated)"
   ]
  },
  {
   "cell_type": "code",
   "execution_count": null,
   "metadata": {},
   "outputs": [],
   "source": [
    "rpe_metric = metrics.RPE(pose_relation=pose_relation, delta=delta, delta_unit=delta_unit, all_pairs=all_pairs)\n",
    "rpe_metric.process_data(data)"
   ]
  },
  {
   "cell_type": "code",
   "execution_count": null,
   "metadata": {},
   "outputs": [],
   "source": [
    "rpe_stat = rpe_metric.get_statistic(metrics.StatisticsType.rmse)\n",
    "print(rpe_stat)"
   ]
  },
  {
   "cell_type": "code",
   "execution_count": null,
   "metadata": {},
   "outputs": [],
   "source": [
    "rpe_stats = rpe_metric.get_all_statistics()\n",
    "pprint.pprint(rpe_stats)"
   ]
  },
  {
   "cell_type": "code",
   "execution_count": null,
   "metadata": {},
   "outputs": [],
   "source": [
    "traj_ref_plot = copy.deepcopy(traj_gt)\n",
    "traj_est_plot = copy.deepcopy(traj_estimated)\n",
    "traj_ref_plot.reduce_to_ids(rpe_metric.delta_ids)\n",
    "traj_est_plot.reduce_to_ids(rpe_metric.delta_ids)\n",
    "seconds_from_start = [t - traj_estimated.timestamps[0] for t in traj_estimated.timestamps[1:]]"
   ]
  },
  {
   "cell_type": "code",
   "execution_count": null,
   "metadata": {},
   "outputs": [],
   "source": [
    "fig = plt.figure()\n",
    "ep.error_array(fig.gca(), rpe_metric.error, x_array=seconds_from_start,\n",
    "                 statistics={s:v for s,v in rpe_stats.items() if s != \"sse\"},\n",
    "                 name=\"RPE\", title=\"RPE w.r.t. \" + rpe_metric.pose_relation.value, xlabel=\"$t$ (s)\")\n",
    "plt.show()"
   ]
  },
  {
   "cell_type": "code",
   "execution_count": null,
   "metadata": {},
   "outputs": [],
   "source": [
    "plot_mode = ep.PlotMode.xy\n",
    "fig = plt.figure()\n",
    "ax = ep.prepare_axis(fig, plot_mode)\n",
    "ep.traj(ax, plot_mode, traj_ref_plot, '--', \"gray\", \"reference\")\n",
    "ep.traj_colormap(ax, traj_est_plot, rpe_metric.error, plot_mode, min_map=rpe_stats[\"min\"], max_map=rpe_stats[\"max\"])\n",
    "ax.legend()\n",
    "plt.show()"
   ]
  },
  {
   "cell_type": "code",
   "execution_count": null,
   "metadata": {},
   "outputs": [],
   "source": [
    "tum_rpe_equivalent = metrics.RPE(metrics.PoseRelation.translation_part, delta, Unit.frames, all_pairs=True)\n",
    "tum_rpe_equivalent.process_data((traj_gt, traj_estimated))\n",
    "print(tum_rpe_equivalent.get_statistic(metrics.StatisticsType.mean))"
   ]
  },
  {
   "cell_type": "code",
   "execution_count": null,
   "metadata": {},
   "outputs": [],
   "source": []
  },
  {
   "cell_type": "code",
   "execution_count": null,
   "metadata": {},
   "outputs": [],
   "source": []
  }
 ],
 "metadata": {
  "kernelspec": {
   "display_name": "waymo_benchmark_v1_env",
   "language": "python",
   "name": "python3"
  },
  "language_info": {
   "codemirror_mode": {
    "name": "ipython",
    "version": 3
   },
   "file_extension": ".py",
   "mimetype": "text/x-python",
   "name": "python",
   "nbconvert_exporter": "python",
   "pygments_lexer": "ipython3",
   "version": "3.9.5"
  }
 },
 "nbformat": 4,
 "nbformat_minor": 2
}
